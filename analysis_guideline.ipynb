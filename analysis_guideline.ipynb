{
 "cells": [
  {
   "cell_type": "markdown",
   "metadata": {},
   "source": [
    "This notebook provides a brief guideline and some code, so that everybody can individually conduct some data analysis and provide a standardized DataFrame that can then be processed and displayed on a map.\n",
    "\n",
    "Ideally, some DataFrames can be sent to **Vivika by Monday, 31st of August**, so she can visualize them for the Tuesday call."
   ]
  },
  {
   "cell_type": "markdown",
   "metadata": {},
   "source": [
    "# Guideline for individual data analysis"
   ]
  },
  {
   "cell_type": "markdown",
   "metadata": {},
   "source": [
    "- After your analysis, please **provide a 4 column dataframe (ID, name, year, values) in the format displayed below** (ID, name and year is required. Theoretically you can have multiple value columns as 5th, 6th, etc. column, but don't duplicate ID, name, year. If you use external data, please see below for a matching table for ID-NUTS1 and \"Bundesländer\")\n",
    "- Please **aim for NUTS-3 level**, alternatively NUTS-1\n",
    "- Please **provide value column name** (e.g. change \"AIxxxx\" to human-understandable, like \"school drop-outs under 15yrs\")\n",
    "- Please also provide a **brief description** of the column \n",
    "- Language is **English**, so please translate column names / descriptions, if necessary (to translate from German, use e.g. https://www.deepl.com/translator)\n",
    "- If necessary, please convert the data in a way that **high values are positive for child well-being** (e.g. values for high-school drop-outs would need to be reversed so that high values"
   ]
  },
  {
   "cell_type": "code",
   "execution_count": 1,
   "metadata": {
    "code_folding": [
     0
    ]
   },
   "outputs": [],
   "source": [
    "# Import libraries\n",
    "%load_ext autoreload\n",
    "%autoreload\n",
    "  \n",
    "import pandas as pd\n",
    "import numpy as np\n",
    "import matplotlib.pyplot as plt\n",
    "from numpy import loadtxt\n",
    "import geopandas as gpd\n",
    "import math\n",
    "import os\n",
    "import pickle\n",
    "\n",
    "# Datenguidepy\n",
    "from datenguidepy.query_helper import get_regions, get_statistics, get_availability_summary\n",
    "from datenguidepy import Query\n",
    "\n",
    "# Processing/App\n",
    "from sklearn.preprocessing import StandardScaler, MinMaxScaler\n",
    "from sklearn.compose import ColumnTransformer\n",
    "from sklearn.pipeline import Pipeline\n",
    "\n",
    "%matplotlib inline"
   ]
  },
  {
   "cell_type": "code",
   "execution_count": 2,
   "metadata": {},
   "outputs": [
    {
     "data": {
      "text/html": [
       "<div>\n",
       "<style scoped>\n",
       "    .dataframe tbody tr th:only-of-type {\n",
       "        vertical-align: middle;\n",
       "    }\n",
       "\n",
       "    .dataframe tbody tr th {\n",
       "        vertical-align: top;\n",
       "    }\n",
       "\n",
       "    .dataframe thead th {\n",
       "        text-align: right;\n",
       "    }\n",
       "</style>\n",
       "<table border=\"1\" class=\"dataframe\">\n",
       "  <thead>\n",
       "    <tr style=\"text-align: right;\">\n",
       "      <th></th>\n",
       "      <th>name</th>\n",
       "      <th>level</th>\n",
       "      <th>parent</th>\n",
       "    </tr>\n",
       "    <tr>\n",
       "      <th>region_id</th>\n",
       "      <th></th>\n",
       "      <th></th>\n",
       "      <th></th>\n",
       "    </tr>\n",
       "  </thead>\n",
       "  <tbody>\n",
       "    <tr>\n",
       "      <th>10</th>\n",
       "      <td>Saarland</td>\n",
       "      <td>nuts1</td>\n",
       "      <td>DG</td>\n",
       "    </tr>\n",
       "    <tr>\n",
       "      <th>11</th>\n",
       "      <td>Berlin</td>\n",
       "      <td>nuts1</td>\n",
       "      <td>DG</td>\n",
       "    </tr>\n",
       "    <tr>\n",
       "      <th>12</th>\n",
       "      <td>Brandenburg</td>\n",
       "      <td>nuts1</td>\n",
       "      <td>DG</td>\n",
       "    </tr>\n",
       "    <tr>\n",
       "      <th>13</th>\n",
       "      <td>Mecklenburg-Vorpommern</td>\n",
       "      <td>nuts1</td>\n",
       "      <td>DG</td>\n",
       "    </tr>\n",
       "    <tr>\n",
       "      <th>14</th>\n",
       "      <td>Sachsen</td>\n",
       "      <td>nuts1</td>\n",
       "      <td>DG</td>\n",
       "    </tr>\n",
       "    <tr>\n",
       "      <th>15</th>\n",
       "      <td>Sachsen-Anhalt</td>\n",
       "      <td>nuts1</td>\n",
       "      <td>DG</td>\n",
       "    </tr>\n",
       "    <tr>\n",
       "      <th>16</th>\n",
       "      <td>Thüringen</td>\n",
       "      <td>nuts1</td>\n",
       "      <td>DG</td>\n",
       "    </tr>\n",
       "    <tr>\n",
       "      <th>01</th>\n",
       "      <td>Schleswig-Holstein</td>\n",
       "      <td>nuts1</td>\n",
       "      <td>DG</td>\n",
       "    </tr>\n",
       "    <tr>\n",
       "      <th>02</th>\n",
       "      <td>Hamburg</td>\n",
       "      <td>nuts1</td>\n",
       "      <td>DG</td>\n",
       "    </tr>\n",
       "    <tr>\n",
       "      <th>03</th>\n",
       "      <td>Niedersachsen</td>\n",
       "      <td>nuts1</td>\n",
       "      <td>DG</td>\n",
       "    </tr>\n",
       "    <tr>\n",
       "      <th>04</th>\n",
       "      <td>Bremen</td>\n",
       "      <td>nuts1</td>\n",
       "      <td>DG</td>\n",
       "    </tr>\n",
       "    <tr>\n",
       "      <th>05</th>\n",
       "      <td>Nordrhein-Westfalen</td>\n",
       "      <td>nuts1</td>\n",
       "      <td>DG</td>\n",
       "    </tr>\n",
       "    <tr>\n",
       "      <th>06</th>\n",
       "      <td>Hessen</td>\n",
       "      <td>nuts1</td>\n",
       "      <td>DG</td>\n",
       "    </tr>\n",
       "    <tr>\n",
       "      <th>07</th>\n",
       "      <td>Rheinland-Pfalz</td>\n",
       "      <td>nuts1</td>\n",
       "      <td>DG</td>\n",
       "    </tr>\n",
       "    <tr>\n",
       "      <th>08</th>\n",
       "      <td>Baden-Württemberg, Land</td>\n",
       "      <td>nuts1</td>\n",
       "      <td>DG</td>\n",
       "    </tr>\n",
       "    <tr>\n",
       "      <th>09</th>\n",
       "      <td>Bayern</td>\n",
       "      <td>nuts1</td>\n",
       "      <td>DG</td>\n",
       "    </tr>\n",
       "  </tbody>\n",
       "</table>\n",
       "</div>"
      ],
      "text/plain": [
       "                              name  level parent\n",
       "region_id                                       \n",
       "10                        Saarland  nuts1     DG\n",
       "11                          Berlin  nuts1     DG\n",
       "12                     Brandenburg  nuts1     DG\n",
       "13          Mecklenburg-Vorpommern  nuts1     DG\n",
       "14                         Sachsen  nuts1     DG\n",
       "15                  Sachsen-Anhalt  nuts1     DG\n",
       "16                       Thüringen  nuts1     DG\n",
       "01              Schleswig-Holstein  nuts1     DG\n",
       "02                         Hamburg  nuts1     DG\n",
       "03                   Niedersachsen  nuts1     DG\n",
       "04                          Bremen  nuts1     DG\n",
       "05             Nordrhein-Westfalen  nuts1     DG\n",
       "06                          Hessen  nuts1     DG\n",
       "07                 Rheinland-Pfalz  nuts1     DG\n",
       "08         Baden-Württemberg, Land  nuts1     DG\n",
       "09                          Bayern  nuts1     DG"
      ]
     },
     "execution_count": 2,
     "metadata": {},
     "output_type": "execute_result"
    }
   ],
   "source": [
    "# Query regions, e.g. get all \"Bundesländer\"\n",
    "get_regions().query(\"level == 'nuts1'\")"
   ]
  },
  {
   "cell_type": "markdown",
   "metadata": {},
   "source": [
    "**Helper function in case you are using Datenguidepy**\n",
    "\n",
    "This function will return a DataFrame in the required final format, taking a code as input. Feel free to optimize - it can take one or two minutes."
   ]
  },
  {
   "cell_type": "code",
   "execution_count": 3,
   "metadata": {},
   "outputs": [],
   "source": [
    "# Save all NUTS3 codes as DataFrame (used in function for standardized query)\n",
    "nuts3_codes = pd.DataFrame(get_regions().query('level == \"nuts3\"').name)   # Get all NUTS-3 codes"
   ]
  },
  {
   "cell_type": "code",
   "execution_count": 12,
   "metadata": {},
   "outputs": [],
   "source": [
    "# Function for standardized query (I get duplicate rows, so I delete them in sequence. Can surely be improved)\n",
    "def nuts3_query(code):\n",
    "    query = Query.region(list(nuts3_codes.index))    # Query.all_regions(nuts=3) did not work for me somehow\n",
    "    query.add_field(code)\n",
    "    query_res = query.results(verbose_statistics=True)    # verbose_statistics changes column name of code to title\n",
    "    value_col = [col for col in query_res.columns if code in col][0]   # necessary as \"code\" is no longer column title\n",
    "    query_res = query_res[[\"id\", \"name\", \"year\", value_col]]     # retain only required columns\n",
    "    query_res.drop_duplicates(subset=None, keep='first', inplace=True)\n",
    "    query_res.rename(columns=lambda x: x+\"_nuts3\" if x in [\"id\", \"name\"] else x, inplace=True)\n",
    "    return query_res"
   ]
  },
  {
   "cell_type": "code",
   "execution_count": 13,
   "metadata": {},
   "outputs": [
    {
     "data": {
      "text/html": [
       "<div>\n",
       "<style scoped>\n",
       "    .dataframe tbody tr th:only-of-type {\n",
       "        vertical-align: middle;\n",
       "    }\n",
       "\n",
       "    .dataframe tbody tr th {\n",
       "        vertical-align: top;\n",
       "    }\n",
       "\n",
       "    .dataframe thead th {\n",
       "        text-align: right;\n",
       "    }\n",
       "</style>\n",
       "<table border=\"1\" class=\"dataframe\">\n",
       "  <thead>\n",
       "    <tr style=\"text-align: right;\">\n",
       "      <th></th>\n",
       "      <th>id_nuts3</th>\n",
       "      <th>name_nuts3</th>\n",
       "      <th>year</th>\n",
       "      <th>Anteil Schulabgänger mit allgem. Hochschulreife (AI0304)</th>\n",
       "    </tr>\n",
       "  </thead>\n",
       "  <tbody>\n",
       "    <tr>\n",
       "      <th>0</th>\n",
       "      <td>10041</td>\n",
       "      <td>Saarbrücken, Regionalverband</td>\n",
       "      <td>2006</td>\n",
       "      <td>29.3</td>\n",
       "    </tr>\n",
       "    <tr>\n",
       "      <th>2</th>\n",
       "      <td>10041</td>\n",
       "      <td>Saarbrücken, Regionalverband</td>\n",
       "      <td>2007</td>\n",
       "      <td>27.1</td>\n",
       "    </tr>\n",
       "    <tr>\n",
       "      <th>4</th>\n",
       "      <td>10041</td>\n",
       "      <td>Saarbrücken, Regionalverband</td>\n",
       "      <td>2008</td>\n",
       "      <td>29.2</td>\n",
       "    </tr>\n",
       "    <tr>\n",
       "      <th>6</th>\n",
       "      <td>10041</td>\n",
       "      <td>Saarbrücken, Regionalverband</td>\n",
       "      <td>2009</td>\n",
       "      <td>44.1</td>\n",
       "    </tr>\n",
       "    <tr>\n",
       "      <th>8</th>\n",
       "      <td>10041</td>\n",
       "      <td>Saarbrücken, Regionalverband</td>\n",
       "      <td>2010</td>\n",
       "      <td>33.9</td>\n",
       "    </tr>\n",
       "    <tr>\n",
       "      <th>...</th>\n",
       "      <td>...</td>\n",
       "      <td>...</td>\n",
       "      <td>...</td>\n",
       "      <td>...</td>\n",
       "    </tr>\n",
       "    <tr>\n",
       "      <th>16</th>\n",
       "      <td>09780</td>\n",
       "      <td>Oberallgäu, Landkreis</td>\n",
       "      <td>2014</td>\n",
       "      <td>15.9</td>\n",
       "    </tr>\n",
       "    <tr>\n",
       "      <th>18</th>\n",
       "      <td>09780</td>\n",
       "      <td>Oberallgäu, Landkreis</td>\n",
       "      <td>2015</td>\n",
       "      <td>17.5</td>\n",
       "    </tr>\n",
       "    <tr>\n",
       "      <th>20</th>\n",
       "      <td>09780</td>\n",
       "      <td>Oberallgäu, Landkreis</td>\n",
       "      <td>2016</td>\n",
       "      <td>17.0</td>\n",
       "    </tr>\n",
       "    <tr>\n",
       "      <th>22</th>\n",
       "      <td>09780</td>\n",
       "      <td>Oberallgäu, Landkreis</td>\n",
       "      <td>2017</td>\n",
       "      <td>19.4</td>\n",
       "    </tr>\n",
       "    <tr>\n",
       "      <th>24</th>\n",
       "      <td>09780</td>\n",
       "      <td>Oberallgäu, Landkreis</td>\n",
       "      <td>2018</td>\n",
       "      <td>19.8</td>\n",
       "    </tr>\n",
       "  </tbody>\n",
       "</table>\n",
       "<p>5792 rows × 4 columns</p>\n",
       "</div>"
      ],
      "text/plain": [
       "   id_nuts3                    name_nuts3  year  \\\n",
       "0     10041  Saarbrücken, Regionalverband  2006   \n",
       "2     10041  Saarbrücken, Regionalverband  2007   \n",
       "4     10041  Saarbrücken, Regionalverband  2008   \n",
       "6     10041  Saarbrücken, Regionalverband  2009   \n",
       "8     10041  Saarbrücken, Regionalverband  2010   \n",
       "..      ...                           ...   ...   \n",
       "16    09780         Oberallgäu, Landkreis  2014   \n",
       "18    09780         Oberallgäu, Landkreis  2015   \n",
       "20    09780         Oberallgäu, Landkreis  2016   \n",
       "22    09780         Oberallgäu, Landkreis  2017   \n",
       "24    09780         Oberallgäu, Landkreis  2018   \n",
       "\n",
       "    Anteil Schulabgänger mit allgem. Hochschulreife (AI0304)  \n",
       "0                                                29.3         \n",
       "2                                                27.1         \n",
       "4                                                29.2         \n",
       "6                                                44.1         \n",
       "8                                                33.9         \n",
       "..                                                ...         \n",
       "16                                               15.9         \n",
       "18                                               17.5         \n",
       "20                                               17.0         \n",
       "22                                               19.4         \n",
       "24                                               19.8         \n",
       "\n",
       "[5792 rows x 4 columns]"
      ]
     },
     "execution_count": 13,
     "metadata": {},
     "output_type": "execute_result"
    }
   ],
   "source": [
    "# Apply query function\n",
    "df = nuts3_query('AI0304')\n",
    "df"
   ]
  },
  {
   "cell_type": "code",
   "execution_count": 15,
   "metadata": {},
   "outputs": [
    {
     "name": "stdout",
     "output_type": "stream",
     "text": [
      "\u001b[1mkind:\u001b[0m\n",
      "OBJECT\n",
      "\n",
      "\u001b[1mdescription:\u001b[0m\n",
      "Anteil Schulabgänger mit allgem. Hochschulreife\n",
      "\n",
      "\u001b[1marguments:\u001b[0m\n",
      "\u001b[4myear\u001b[0m: LIST of type SCALAR(Int)\n",
      "\n",
      "\u001b[4mstatistics\u001b[0m: LIST of type ENUM(AI0304Statistics)\n",
      "enum values:\n",
      "R99910: Regionalatlas Deutschland\n",
      "\n",
      "\u001b[1mfields:\u001b[0m\n",
      "id: Interne eindeutige ID\n",
      "year: Jahr des Stichtages\n",
      "value: Wert\n",
      "source: Quellenverweis zur GENESIS Regionaldatenbank\n",
      "\n",
      "\u001b[1menum values:\u001b[0m\n",
      "None\n"
     ]
    }
   ],
   "source": [
    "# Get additional information on the field\n",
    "query = Query.all_regions(nuts=1)\n",
    "field_info = query.add_field('AI0304')\n",
    "field_info.get_info()"
   ]
  },
  {
   "cell_type": "markdown",
   "metadata": {},
   "source": [
    "**Save DataFrame in pickle format**"
   ]
  },
  {
   "cell_type": "code",
   "execution_count": null,
   "metadata": {},
   "outputs": [],
   "source": [
    "# Save DataFrame to pickle\n",
    "df.to_pickle(\"saves/AI0304.pkl\")"
   ]
  },
  {
   "cell_type": "markdown",
   "metadata": {},
   "source": [
    "# What happens to your DataFrame afterwards"
   ]
  },
  {
   "cell_type": "markdown",
   "metadata": {},
   "source": [
    "This section is just to indicate what happens with your DataFrame - combined with the others - afterwards, so no further action required"
   ]
  },
  {
   "cell_type": "code",
   "execution_count": null,
   "metadata": {
    "code_folding": [
     0
    ]
   },
   "outputs": [],
   "source": [
    "# Import all DataFrames from folder\n",
    "df = pd.DataFrame(columns=['id_nuts3', 'name_nuts3', 'year'])\n",
    "for f in os.listdir('data_pickles'):\n",
    "    if not f.startswith('.'):\n",
    "        temp = pickle.load(open('data_pickles/'+f, \"rb\" ))\n",
    "        df = pd.merge(df, temp,  how='outer', on=['year','id_nuts3', 'name_nuts3'])\n",
    "df.replace(0, np.nan, inplace = True)"
   ]
  },
  {
   "cell_type": "code",
   "execution_count": null,
   "metadata": {
    "code_folding": [
     0
    ]
   },
   "outputs": [],
   "source": [
    "# Add columns for id_nuts1 and name_nuts1\n",
    "regions = get_regions()\n",
    "regions_nuts1 = regions[regions.level==\"nuts1\"][\"name\"]   # Get id and names of regions on nuts1 level\n",
    "df[\"id_nuts1\"] = [str(x)[:2] for x in df.id_nuts3]   # Add column with id_nuts1\n",
    "df = pd.merge(df, regions_nuts1, how='left', left_on=\"id_nuts1\", right_index=True)  # Add column with nuts1 name\n",
    "df.rename(columns=lambda x: x+\"_nuts1\" if x in [\"id\", \"name\"] else x, inplace=True)   # Rename column to name_nuts1"
   ]
  },
  {
   "cell_type": "code",
   "execution_count": null,
   "metadata": {
    "code_folding": [
     0
    ]
   },
   "outputs": [],
   "source": [
    "# changing location of nuts1 columns\n",
    "mid = df[['id_nuts1','name_nuts1']]\n",
    "df.drop(labels=['id_nuts1','name_nuts1'], axis=1, inplace = True)\n",
    "df.insert(0,'name_nuts1', mid['name_nuts1'])\n",
    "df.insert(0,'id_nuts1', mid['id_nuts1'])"
   ]
  },
  {
   "cell_type": "code",
   "execution_count": null,
   "metadata": {
    "code_folding": [
     0
    ]
   },
   "outputs": [],
   "source": [
    "# scaling and saving data\n",
    "scaled_df = df.iloc[:,:5]\n",
    "scaled_cols=MinMaxScaler().fit_transform(X=df.iloc[:,5:])\n",
    "scaled_cols=pd.DataFrame(scaled_cols, columns=df.iloc[:,5:].columns)\n",
    "scaled_df=pd.concat([scaled_df,scaled_cols], axis=1)"
   ]
  },
  {
   "cell_type": "code",
   "execution_count": null,
   "metadata": {
    "code_folding": [
     0
    ]
   },
   "outputs": [],
   "source": [
    "#importing json containing Lankreis borders\n",
    "geojson = gpd.read_file(f'landkreise_simplify200.geojson')\n"
   ]
  },
  {
   "cell_type": "code",
   "execution_count": null,
   "metadata": {
    "code_folding": [
     0
    ]
   },
   "outputs": [],
   "source": [
    "# defining features for input\n",
    "features = list(df.drop(['id_nuts1','name_nuts1','id_nuts3','name_nuts3','year'],axis=1).columns)\n"
   ]
  },
  {
   "cell_type": "markdown",
   "metadata": {},
   "source": [
    "**Next: App implementation via Plotly Dash**"
   ]
  }
 ],
 "metadata": {
  "kernelspec": {
   "display_name": "Python [conda env:airbnb42] *",
   "language": "python",
   "name": "conda-env-airbnb42-py"
  },
  "language_info": {
   "codemirror_mode": {
    "name": "ipython",
    "version": 3
   },
   "file_extension": ".py",
   "mimetype": "text/x-python",
   "name": "python",
   "nbconvert_exporter": "python",
   "pygments_lexer": "ipython3",
   "version": "3.6.10"
  },
  "toc": {
   "base_numbering": 1,
   "nav_menu": {},
   "number_sections": true,
   "sideBar": true,
   "skip_h1_title": false,
   "title_cell": "Table of Contents",
   "title_sidebar": "Contents",
   "toc_cell": false,
   "toc_position": {},
   "toc_section_display": true,
   "toc_window_display": false
  }
 },
 "nbformat": 4,
 "nbformat_minor": 4
}
