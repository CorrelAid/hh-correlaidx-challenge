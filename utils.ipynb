{
 "cells": [
  {
   "cell_type": "code",
   "execution_count": 1,
   "metadata": {
    "hide_input": false
   },
   "outputs": [],
   "source": [
    "import pandas as pd\n",
    "import numpy as np\n",
    "\n",
    "#from  datenguidepy import Query, get_regions, get_statistics\n",
    "from datenguidepy.query_builder import Query\n",
    "from datenguidepy.query_helper import get_regions, get_statistics\n",
    "pd.set_option('display.max_colwidth', 200)"
   ]
  },
  {
   "cell_type": "code",
   "execution_count": 1,
   "metadata": {
    "code_folding": [
     1,
     8,
     14,
     22,
     44
    ],
    "hide_input": false
   },
   "outputs": [],
   "source": [
    "class DataQueryRegion():\n",
    "    def __init__(self,region,query_list,query_des_list,query_word):\n",
    "        self.region = region;\n",
    "        self.query_list = query_list\n",
    "        self.query_des_list = query_des_list\n",
    "        self.query_word = query_word\n",
    "        \n",
    "    #returns a dataframe with 'query_field','short' and 'long' descriptions\n",
    "    def get_query_fields_with_query_word(self):\n",
    "        #df_stat = get_statistics().query(\"long_description.str.contains({})\".format(self.query_word), engine='python')\n",
    "        df_stat = get_statistics().query(\"long_description.str.contains('Kind')\", engine='python')\n",
    "        df_stat.reset_index(inplace=True)\n",
    "        return df_stat\n",
    "    \n",
    "    def get_info_of_a_query_region(self,query_field):\n",
    "        #get_statistics().query('statistic.str.contains(\"KIND03\")', engine = 'python')\n",
    "        query = Query.region(self.region)\n",
    "        # add a field (the statstic) to the query\n",
    "        q_field = query.add_field(query_field)#KINNW1 #SOZHI1\n",
    "        return q_field.get_info()\n",
    "\n",
    "    #returns a list of non-null data frames obtained from a query word\n",
    "    def get_non_null_data_of_query_filed_region(self):\n",
    "        df_stat = self.get_query_fields_with_query_word()\n",
    "        df_list = []\n",
    "        for stat,des in zip(df_stat['statistic'].to_list(),df_stat['short_description'].to_list()):\n",
    "            #query = Query.region(\"name='Hamburg'\")\n",
    "            query = Query.region(self.region)\n",
    "            # add a field (the statstic) to the query\n",
    "            q_field = query.add_field(stat)\n",
    "            #q_field.add_args({'GES': 'GESW'})\n",
    "    \n",
    "            #get info only for non-null entries\n",
    "            if len(query.results().index)!=0:\n",
    "                #print('Now we are looking at data of',stat,des)\n",
    "        \n",
    "                # we are only interested in the year and number\n",
    "                df = query.results()[['year',stat]].sort_values('year')\n",
    "                df.drop_duplicates(inplace=True,ignore_index=True)\n",
    "                df.rename(columns={stat:des},inplace=True)\n",
    "                #print(df)\n",
    "                df_list.append(df)\n",
    "        return df_list\n",
    "    #return max, min year from a dataframe\n",
    "    def _get_max_min_year_(self,df):\n",
    "        return np.max(df['year']),np.min(df['year'])\n",
    "\n",
    "    #returns a dataframe froma list of query_fileds\n",
    "    def get_data_combined_query_list_region(self):\n",
    "        #get max & min year avaiable from all data sources with a query word\n",
    "        #df_list = self.get_non_null_data_of_query_filed_region()\n",
    "        #maxyear, minyear = self._get_max_min_year_(pd.concat(df_list))\n",
    "                \n",
    "        #or manually set max, min year \n",
    "        maxyear, minyear = int(2019), int(1994)\n",
    "        \n",
    "        yeardata = {'year': list(np.arange(minyear,maxyear))}\n",
    "        \n",
    "        #create a dataframe with a column year\n",
    "        df = pd.DataFrame(yeardata,columns=['year'])\n",
    "        for stat,des in zip(self.query_list,self.query_des_list):\n",
    "            #query = Query.region(\"name='Hamburg'\")\n",
    "            query = Query.region(self.region)\n",
    "            # add a field (the statstic) to the query\n",
    "            q_field = query.add_field(stat)\n",
    "    \n",
    "            # we are only interested in the year and number\n",
    "            dftmp = query.results()[['year',stat]].sort_values('year')\n",
    "            dftmp.drop_duplicates(inplace=True,ignore_index=True)\n",
    "            dftmp.rename(columns={stat:des},inplace=True)\n",
    "            #print(dftmp)\n",
    "            df = pd.merge(df,dftmp,how='left',on='year')\n",
    "        return df"
   ]
  },
  {
   "cell_type": "code",
   "execution_count": null,
   "metadata": {},
   "outputs": [],
   "source": []
  }
 ],
 "metadata": {
  "kernelspec": {
   "display_name": "Python 3",
   "language": "python",
   "name": "python3"
  },
  "language_info": {
   "codemirror_mode": {
    "name": "ipython",
    "version": 3
   },
   "file_extension": ".py",
   "mimetype": "text/x-python",
   "name": "python",
   "nbconvert_exporter": "python",
   "pygments_lexer": "ipython3",
   "version": "3.8.3"
  },
  "toc": {
   "base_numbering": 1,
   "nav_menu": {},
   "number_sections": true,
   "sideBar": true,
   "skip_h1_title": false,
   "title_cell": "Table of Contents",
   "title_sidebar": "Contents",
   "toc_cell": false,
   "toc_position": {},
   "toc_section_display": true,
   "toc_window_display": false
  }
 },
 "nbformat": 4,
 "nbformat_minor": 4
}
