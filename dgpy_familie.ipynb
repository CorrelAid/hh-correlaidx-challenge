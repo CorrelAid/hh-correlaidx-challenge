{
 "metadata": {
  "language_info": {
   "codemirror_mode": {
    "name": "ipython",
    "version": 3
   },
   "file_extension": ".py",
   "mimetype": "text/x-python",
   "name": "python",
   "nbconvert_exporter": "python",
   "pygments_lexer": "ipython3",
   "version": 3
  },
  "orig_nbformat": 2,
  "kernelspec": {
   "name": "python_defaultSpec_1595772410298",
   "display_name": "Python 3.8.2 64-bit ('.venv_hh_cc': venv)"
  }
 },
 "nbformat": 4,
 "nbformat_minor": 2,
 "cells": [
  {
   "cell_type": "code",
   "execution_count": 10,
   "metadata": {},
   "outputs": [],
   "source": [
    "# import packages\n",
    "import numpy as np\n",
    "import pandas as pd\n",
    "pd.set_option('display.max_colwidth', 200)\n",
    "pd.set_option('display.max_rows', 100)\n",
    "from datenguidepy.query_builder import Query\n",
    "from datenguidepy.query_helper import get_regions, get_statistics"
   ]
  },
  {
   "cell_type": "code",
   "execution_count": 8,
   "metadata": {
    "tags": []
   },
   "outputs": [
    {
     "output_type": "stream",
     "name": "stdout",
     "text": "Column names ['short_description', 'long_description']\n"
    }
   ],
   "source": [
    "# list of entries for 'Familie'\n",
    "df_familie = get_statistics().query('long_description.str.contains(\"Familie\")', engine='python')\n",
    "print('Column names {}'.format(list(df_familie)))"
   ]
  },
  {
   "cell_type": "code",
   "execution_count": 31,
   "metadata": {
    "tags": []
   },
   "outputs": [
    {
     "output_type": "stream",
     "name": "stdout",
     "text": "statistic\nAI_Z08                                             Erwerbslosenquote\nAI_Z09                                           Erwerbstätigenquote\nAI_Z10                                    Erwerbstätigenquote Frauen\nAI_Z11                                    Erwerbstätigenquote Männer\nAI1701                                         BIP je Erwerbstätigen\nAI0802                                      Arbeitslosenquote Männer\nAI0803                                      Arbeitslosenquote Frauen\nAI0804                             Arbeitslosenquote 15 bis 24 Jahre\nAI0805                                   Arbeitslosenquote Ausländer\nAI1801                                         Elterngeldbezug Vater\nAI0201                         Bevölkerungsdichte (Einwohner je qkm)\nAI0202               Bevölkerungsentwicklung im Jahr je 10.000 Einw.\nAI0208                     Anteil Ausländer an der Gesamtbevölkerung\nAI0209                            Lebendgeborene je 10.000 Einwohner\nAI0210                                Gestorbene je 10.000 Einwohner\nAI0211               Geburten-/Gestorbenenüberschuss je 10.000 Einw.\nAI0212                           Wanderungssaldo je 10.000 Einwohner\nAI0801                                             Arbeitslosenquote\nAI0203                                    Bevölkerung 0 bis 17 Jahre\nAI0204                                   Bevölkerung 18 bis 24 Jahre\nAI0205                                   Bevölkerung 25 bis 44 Jahre\nAI0206                                   Bevölkerung 45 bis 64 Jahre\nAI0207                                Bevölkerung 65 Jahre und älter\nAI0213             Wanderungssaldo je 10 000: Männer 18 bis 29 Jahre\nAI0214             Wanderungssaldo je 10.000: Frauen 18 bis 29 Jahre\nAI_Z18                     Durchschnittliche Wohnfläche je Einwohner\nAI_Z19                       Durchschnittliche Wohnfläche je Wohnung\nAI1001                                Investitionen je Beschäftigten\nAI1902                                           Haus- und Sperrmüll\nAI1903                                  Getrennt erfasste Wertstoffe\nAI1904                                      Abfälle aus der Biotonne\nAI1905                  Biologisch abbaubare Garten- und Parkabfälle\nAI2201                          Grundsicherungsquote ab Altersgrenze\nAI2202                   Grundsicherungsquote wegen Erwerbsminderung\nAI2203                   Grundsicherungsquote Männer ab Altersgrenze\nAI2204                   Grundsicherungsquote Frauen ab Altersgrenze\nAI2205                                    Index Grundsicherungsquote\nAI1002                               Bruttoentgelte je Beschäftigten\nAI0710                                            Beschäftigtenquote\nAI0711                                     Beschäftigtenquote Männer\nAI0712                                     Beschäftigtenquote Frauen\nAI0713                                      Index Beschäftigtenquote\nAI_Z01                          Durchschnittsalter Gesamtbevölkerung\nAI_Z02                      Durchschnittsalter weibliche Bevölkerung\nAI_Z03                      Durchschnittsalter männliche Bevölkerung\nAI_Z04              Anteil Personen mit MHG an der Gesamtbevölkerung\nAI_Z05                        Anteil Personen mit MHG 0 bis 19 Jahre\nAI_Z06                       Anteil Personen mit MHG 20 bis 59 Jahre\nAI_Z07                    Anteil Personen mit MHG 60 Jahre und älter\nAI1704                                          BIP je Arbeitsstunde\nAI2001                                        Mindestsicherungsquote\nAI0215                                                 Altenquotient\nAI0216                                                Jugendquotient\nAI0217                                                Gesamtquotient\nAI1901                                 Haushaltsabfälle je Einwohner\nAI0218                            Durchschnittsalter der Bevölkerung\nAI0219    Durchschnittsalter der Mutter bei der Geburt des 1. Kindes\nAI0220                                            Einbürgerungsquote\nAI0113                    Siedlungs- und Verkehrsfläche je Einwohner\nAI0701                                            Arbeitsplatzdichte\nAI0702            Anteil Erwerbst. Land- u. Forstwirtsch., Fischerei\nAI0703                   Anteil Erwerbstätige Produzierendes Gewerbe\nAI0704                   Anteil Erwerbstätige Verarbeitendes Gewerbe\nAI0705                               Anteil Erwerbstätige Baugewerbe\nAI0706                  Anteil Erwerbstätige Dienstleistungsbereiche\nAI0707            Ant ET Handel, Verkehr, Gastgew., Inform., Kommun.\nAI0708            Ant ET Finanz-, Vers., Unt-dl., Grundst-, Wohngsw.\nAI0709               Ant ET Öffentl. u. sonst. DL, Erzieh., Gesundh.\nBEV008                                 Einbürgerungen von Ausländern\nBEVZ20                                                   Bevölkerung\nBEVZ15                                    Bevölkerung (ab 15 Jahren)\nBEVZ22                                Bevölkerung nach Erwerbsstatus\nBEVZ21                            Bevölkerung in privaten Haushalten\nPHHZ20                                             Private Haushalte\nERWP09               Arbeitslosenquote bez. abh. zivile Erwerbspers.\nERWP10              Arbeitslosenquote bez. auf alle zivile Erwerbsp.\nERWO09                  Arbeitslosenquote bez. auf alle Erwerbspers.\nERWO10                  Arbeitslosenquote bez. auf abhäng. Erwerbsp.\nERW009                  Arbeitslosenquote bez. auf alle Erwerbspers.\nERWN09                  Arbeitslosenquote bez. auf alle Erwerbspers.\nERWN10                  Arbeitslosenquote bez. auf abhäng. Erwerbsp.\nERW012                                                  Beschäftigte\nERW032             Sozialversicherungspfl. Beschäftigte (Arbeitsort)\nERW033                Sozialversicherungspfl. Beschäftigte (Wohnort)\nHWTP01               Tätige Personen insgesamt im Jahresdurchschnitt\nSOZ004                                 Einrichtungen der Jugendhilfe\nERW061             Arbeitnehmer im Jahresdurchschn. (Inlandskonzept)\nERW063            Erwerbstätige im Jahresdurchschn. (Inlandskonzept)\nName: short_description, dtype: object\n"
    }
   ],
   "source": [
    "print(df_familie['short_description'])"
   ]
  },
  {
   "cell_type": "code",
   "execution_count": 58,
   "metadata": {
    "tags": []
   },
   "outputs": [],
   "source": [
    "query = Query.region('02')\n",
    "query.add_field('PHHZ20')\n",
    "df_test = query.results()\n"
   ]
  },
  {
   "cell_type": "code",
   "execution_count": 59,
   "metadata": {},
   "outputs": [
    {
     "output_type": "execute_result",
     "data": {
      "text/plain": "   id     name  year  PHHZ20 PHHZ20_source_title_de PHHZ20_source_valid_from  \\\n0  02  Hamburg  2011  876502            Zensus 2011      2011-05-09T00:00:00   \n\n  PHHZ20_source_periodicity PHHZ20_source_name PHHZ20_source_url  \n0                  EINMALIG              12111              None  ",
      "text/html": "<div>\n<style scoped>\n    .dataframe tbody tr th:only-of-type {\n        vertical-align: middle;\n    }\n\n    .dataframe tbody tr th {\n        vertical-align: top;\n    }\n\n    .dataframe thead th {\n        text-align: right;\n    }\n</style>\n<table border=\"1\" class=\"dataframe\">\n  <thead>\n    <tr style=\"text-align: right;\">\n      <th></th>\n      <th>id</th>\n      <th>name</th>\n      <th>year</th>\n      <th>PHHZ20</th>\n      <th>PHHZ20_source_title_de</th>\n      <th>PHHZ20_source_valid_from</th>\n      <th>PHHZ20_source_periodicity</th>\n      <th>PHHZ20_source_name</th>\n      <th>PHHZ20_source_url</th>\n    </tr>\n  </thead>\n  <tbody>\n    <tr>\n      <th>0</th>\n      <td>02</td>\n      <td>Hamburg</td>\n      <td>2011</td>\n      <td>876502</td>\n      <td>Zensus 2011</td>\n      <td>2011-05-09T00:00:00</td>\n      <td>EINMALIG</td>\n      <td>12111</td>\n      <td>None</td>\n    </tr>\n  </tbody>\n</table>\n</div>"
     },
     "metadata": {},
     "execution_count": 59
    }
   ],
   "source": [
    "df_test"
   ]
  },
  {
   "cell_type": "code",
   "execution_count": 43,
   "metadata": {
    "tags": []
   },
   "outputs": [
    {
     "output_type": "stream",
     "name": "stdout",
     "text": "['name', 'level', 'parent']\n"
    }
   ],
   "source": [
    "df_regions = get_regions()\n",
    "print(list(df_regions))"
   ]
  },
  {
   "cell_type": "code",
   "execution_count": 57,
   "metadata": {
    "tags": []
   },
   "outputs": [
    {
     "output_type": "stream",
     "name": "stdout",
     "text": "['nuts1' 'nuts2' 'nuts3' 'lau' nan]\n['DG' '10' '11' '12' '13' '14' '15' '16' '100' '110' '120' '130' '141'\n '142' '143' '145' '146' '147' '150' '151' '152' '153' '160' '10041'\n '10042' '10043' '10044' '10045' '10046' '11000' '12051' '12052' '12053'\n '12054' '12060' '12061' '12062' '12063' '12064' '12065' '12066' '12067'\n '12068' '12069' '12070' '12071' '12072' '12073' '13001' '13002' '13003'\n '13004' '13005' '13006' '13051' '13052' '13053' '13054' '13055' '13056'\n '13057' '13058' '13059' '13060' '13061' '13062' '13071' '13072' '13073'\n '13074' '13075' '13076' '14161' '14166' '14167' '14171' '14173' '14177'\n '14178' '14181' '14182' '14188' '14191' '14193' '14262' '14263' '14264'\n '14272' '14280' '14284' '14285' '14286' '14287' '14290' '14292' '14365'\n '14374' '14375' '14379' '14383' '14389' '14511' '14521' '14522' '14523'\n '14524' '14612' '14625' '14626' '14627' '14628' '14713' '14729' '14730'\n '15001' '15002' '15003' '15081' '15082' '15083' '15084' '15085' '15086'\n '15087' '15088' '15089' '15090' '15091' '15101' '15151' '15153' '15154'\n '15159' '15171' '15202' '15256' '15260' '15261' '15265' '15266' '15268'\n '15303' '15352' '15355' '15357' '15358' '15362' '15363' '15364' '15367'\n '15369' '15370' '16051' '16052' '16053' '16054' '16055' '16056' '16061'\n '16062' '16063' '16064' '16065' '16066' '16067' '16068' '16069' '16070'\n '16071' '16072' '16073' '16074' '16075' '16076' '16077' '010' '020' '031'\n '032' '03241' '033' '034' '040' '051' '053' '05334' '055' '057' '059'\n '064' '065' '066' '071' '072' '073' '081' '082' '083' '084' '091' '092'\n '093' '094' '095' '096' '097' nan '01001' '01002' '01003' '01004' '01051'\n '01053' '01054' '01055' '01056' '01057' '01058' '01059' '01060' '01061'\n '01062' '02000' '03101' '03102' '03103' '03151' '03152' '03153' '03154'\n '03155' '03156' '03157' '03158' '03159' '03251' '03252' '03254' '03255'\n '03256' '03257' '03351' '03352' '03353' '03354' '03355' '03356' '03357'\n '03358' '03359' '03360' '03361' '03401' '03402' '03403' '03404' '03405'\n '03451' '03452' '03453' '03454' '03455' '03456' '03457' '03458' '03459'\n '03460' '03461' '03462' '04011' '04012' '05111' '05112' '05113' '05114'\n '05116' '05117' '05119' '05120' '05122' '05124' '05154' '05158' '05162'\n '05166' '05170' '05313' '05314' '05315' '05316' '05354' '05358' '05362'\n '05366' '05370' '05374' '05378' '05382' '05512' '05513' '05515' '05554'\n '05558' '05562' '05566' '05570' '05711' '05754' '05758' '05762' '05766'\n '05770' '05774' '05911' '05913' '05914' '05915' '05916' '05954' '05958'\n '05962' '05966' '05970' '05974' '05978' '06411' '06412' '06413' '06414'\n '06431' '06432' '06433' '06434' '06435' '06436' '06437' '06438' '06439'\n '06440' '06531' '06532' '06533' '06534' '06535' '06611' '06631' '06632'\n '06633' '06634' '06635' '06636' '07111' '07131' '07132' '07133' '07134'\n '07135' '07137' '07138' '07140' '07141' '07143' '07211' '07231' '07232'\n '07233' '07235' '07311' '07312' '07313' '07314' '07315' '07316' '07317'\n '07318' '07319' '07320' '07331' '07332' '07333' '07334' '07335' '07336'\n '07337' '07338' '07339' '07340' '08111' '08115' '08116' '08117' '08118'\n '08119' '08121' '08125' '08126' '08127' '08128' '08135' '08136' '08211'\n '08212' '08215' '08216' '08221' '08222' '08225' '08226' '08231' '08235'\n '08236' '08237' '08311' '08315' '08316' '08317' '08325' '08326' '08327'\n '08335' '08336' '08337' '08415' '08416' '08417' '08421' '08425' '08426'\n '08435' '08436' '08437' '09161' '09162' '09163' '09171' '09172' '09173'\n '09174' '09175' '09176' '09177' '09178' '09179' '09180' '09181' '09182'\n '09183' '09184' '09185' '09186' '09187' '09188' '09189' '09190' '09261'\n '09262' '09263' '09271' '09272' '09273' '09274' '09275' '09276' '09277'\n '09278' '09279' '09361' '09362' '09363' '09371' '09372' '09373' '09374'\n '09375' '09376' '09377' '09461' '09462' '09463' '09464' '09471' '09472'\n '09473' '09474' '09475' '09476' '09477' '09478' '09479' '09561' '09562'\n '09563' '09564' '09565' '09571' '09572' '09573' '09574' '09575' '09576'\n '09577' '09661' '09662' '09663' '09671' '09672' '09673' '09674' '09675'\n '09676' '09677' '09678' '09679' '09761' '09762' '09763' '09764' '09771'\n '09772' '09773' '09774' '09775' '09776' '09777' '09778' '09779' '09780'\n '01' '02' '03' '04' '05' '06' '07' '08' '09']\n"
    }
   ],
   "source": [
    "print(df_regions.level.unique())\n",
    "print(df_regions.parent.unique())"
   ]
  }
 ]
}